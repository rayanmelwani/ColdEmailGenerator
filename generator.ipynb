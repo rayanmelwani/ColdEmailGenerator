{
 "cells": [
  {
   "cell_type": "markdown",
   "metadata": {},
   "source": [
    "# Cold Email Generator \n",
    "\n",
    "This notebook contains a cold email generator for the [PerlonAI](https://www.perlonai.com/) take home project. \n",
    "\n",
    "[Instructions](https://docs.google.com/document/d/1fh5xpp0yrpuyohcQRg6OqPfI7H4XDXIaedpz--QH7rs/edit)\n",
    "\n",
    "[Example Data](https://docs.google.com/spreadsheets/d/1FoLsD7hE-ciClZf-nTDsxCDMqmaXg5gOhZ5Z8_ozaEo/edit#gid=0)\n",
    "\n",
    "The notebook is split into the following sections:\n",
    "- Setup\n",
    "- Experimentation\n",
    "- Further Improvements"
   ]
  },
  {
   "cell_type": "markdown",
   "metadata": {},
   "source": [
    "## Setup"
   ]
  },
  {
   "cell_type": "code",
   "execution_count": 3,
   "metadata": {},
   "outputs": [],
   "source": [
    "! pip freeze > requirements.txt"
   ]
  },
  {
   "cell_type": "code",
   "execution_count": 14,
   "metadata": {},
   "outputs": [],
   "source": [
    "from openai import OpenAI\n",
    "from dotenv import load_dotenv\n",
    "import os\n",
    "from bs4 import BeautifulSoup\n",
    "import urllib.request\n",
    "import pandas as pd\n",
    "import anthropic\n",
    "from tqdm import tqdm_notebook as tqdm\n",
    "import tiktoken\n",
    "import statistics\n",
    "from langchain.output_parsers import ResponseSchema, StructuredOutputParser\n",
    "from langchain_core.prompts import PromptTemplate\n",
    "from langchain_community.chat_models import ChatOpenAI\n",
    "from langchain.agents import ZeroShotAgent, Tool, AgentExecutor\n",
    "from langchain import LLMChain"
   ]
  },
  {
   "cell_type": "code",
   "execution_count": 12,
   "metadata": {},
   "outputs": [],
   "source": [
    "load_dotenv()\n",
    "client = OpenAI()\n",
    "anthropic_client = anthropic.Anthropic()"
   ]
  },
  {
   "cell_type": "markdown",
   "metadata": {},
   "source": [
    "## Experimentation"
   ]
  },
  {
   "cell_type": "code",
   "execution_count": 15,
   "metadata": {},
   "outputs": [
    {
     "name": "stdout",
     "output_type": "stream",
     "text": [
      "Hello! How can I assist you today?\n"
     ]
    }
   ],
   "source": [
    "#Testing OpenAI calls\n",
    "chat_completion = client.chat.completions.create(\n",
    "    model=\"gpt-3.5-turbo\",\n",
    "    messages=[{\"role\": \"user\", \"content\": \"Hello world\"}]\n",
    ")\n",
    "res = chat_completion.choices[0].message.content\n",
    "print(res)"
   ]
  },
  {
   "cell_type": "markdown",
   "metadata": {},
   "source": [
    "### Writing PerlonAI Company Description\n",
    "- self-generated\n",
    "- llm-assisted from website"
   ]
  },
  {
   "cell_type": "code",
   "execution_count": 4,
   "metadata": {},
   "outputs": [],
   "source": [
    "#Wrote short company description myself\n",
    "self_description = \"\"\"\n",
    "PerlonAI is a company that specialises in the automated generation of cold outbound emails. \n",
    "PerlonAI obtains relevant contextual information from the internet and personalises emails through generative AI.\n",
    "\"\"\""
   ]
  },
  {
   "cell_type": "code",
   "execution_count": 16,
   "metadata": {},
   "outputs": [],
   "source": [
    "#Making request from website\n",
    "fp = urllib.request.urlopen(\"https://www.perlonai.com/\")\n",
    "mybytes = fp.read()\n",
    "\n",
    "html_doc = mybytes.decode(\"utf8\")\n",
    "fp.close()\n",
    "\n",
    "# print(html_doc)\n"
   ]
  },
  {
   "cell_type": "code",
   "execution_count": 17,
   "metadata": {},
   "outputs": [],
   "source": [
    "#Getting only text from website\n",
    "soup = BeautifulSoup(html_doc, 'html.parser')\n",
    "website_content = soup.get_text()\n",
    "# print(website_content)"
   ]
  },
  {
   "cell_type": "code",
   "execution_count": 18,
   "metadata": {},
   "outputs": [
    {
     "name": "stdout",
     "output_type": "stream",
     "text": [
      "PerlonAI specializes in sending hyper-personalized cold emails at scale using customized AI models. These AI models conduct extensive research, tailor emails to individual prospects, and manage the sending process, promising 5X more replies compared to standard templates.\n",
      "\n",
      "Key features include:\n",
      "1. Automation of the entire email campaign process—from research and writing to sending—utilizing a custom AI language model that adapts to a company’s unique brand voice.\n",
      "2. Significant time savings, allowing users to bypass manual crafting of personalized emails, which are both time-consuming and less scalable.\n",
      "3. Avoidance of spam filters due to the unique nature of each email, leading to higher open and engagement rates.\n",
      "\n",
      "The system integrates directly with user mailboxes for seamless operation and can be live within three days of setup. Users can expect a dramatic increase in email campaign volume and effectiveness without sacrificing the personal touch critical in reaching prospects.\n",
      "\n",
      "PerlonAI's process involves:\n",
      "1. Understanding client objectives and existing strategies.\n",
      "2. Building and customizing the AI model using the client's data.\n",
      "3. Launching and managing the email campaign directly from the client's mailbox, incorporating real-time feedback.\n",
      "\n",
      "The platform also addresses common concerns like ensuring the authenticity of emails and avoiding spam filters, emphasizing its capability to scale while maintaining customized outreach. The service is tailored for businesses aiming to enhance their sales processes through efficient yet personalized communication, ultimately aiming to increase customer engagement and conversion rates.\n"
     ]
    }
   ],
   "source": [
    "prompt = \"\"\"\n",
    "You are an expert at parsing and extracting information from websites. \n",
    "You will recieve the extracted content from a website.\n",
    "Summarise this content, extracting key information about the company, statistics and business offerings.\n",
    "\"\"\"\n",
    "chat_completion = client.chat.completions.create(\n",
    "    model=\"gpt-4-turbo-2024-04-09\",\n",
    "    messages=[{\"role\":\"system\", \"content\": prompt, \"role\": \"user\", \"content\": f\"Can you please summarise: {website_content}\"}]\n",
    ")\n",
    "perlon_description = chat_completion.choices[0].message.content\n",
    "print(perlon_description)"
   ]
  },
  {
   "cell_type": "code",
   "execution_count": 8,
   "metadata": {},
   "outputs": [],
   "source": [
    "# Saved generated description from above\n",
    "perlon_description = \"\"\"PerlonAI specializes in the creation and distribution of automated, hyper-personalized cold emails designed to significantly improve engagement and response rates over standard email templates. The company employs sophisticated AI models tailored to each customer's unique brand voice and requirements. These AI models automate the entire process, including researching, crafting, and sending emails directly from the user's mailbox.\n",
    "\n",
    "Key benefits reported by PerlonAI include:\n",
    "1. **Increased Efficiency**: Template-based campaigns are statistically ineffective; PerlonAI enables personalization at scale without the extensive time investment traditionally required to craft personalized emails, claiming to provide 500% more replies and an 86% increase in email opens.\n",
    "2. **Time Savings**: It reduces the time spent on drafting emails from 15-30 minutes each to essentially zero, giving sales teams more time to focus on closing deals.\n",
    "3. **Spam Filter Navigation**: Because each email is unique, they are more likely to bypass spam filters effectively.\n",
    "4. **Enhanced Email Volume**: The system supports sending a significantly higher volume of emails compared to manual drafting.\n",
    "\n",
    "The process includes a consultation to understand client objectives, model building which leverages real-time data, and integration directly with the client's existing mailboxes to start campaigns effectively within three days.\n",
    "\n",
    "Prospective clients are encouraged to book a demo to see how PerlonAI can help automate their email prospecting efforts, aiming to transform how companies conduct their outreach by merging automation with personalization for superior results.\"\"\""
   ]
  },
  {
   "cell_type": "markdown",
   "metadata": {},
   "source": [
    "### Few-shot prompting\n",
    "- example cold emails from PerlonAI website\n",
    "- few-shot prompting \n",
    "- OpenAI vs Anthropic"
   ]
  },
  {
   "cell_type": "code",
   "execution_count": 6,
   "metadata": {},
   "outputs": [],
   "source": [
    "# Pulled example emails from the website \n",
    "example_email_1 = \"\"\"Hi Addie,\n",
    "\n",
    "I saw the news about VyStar Credit Union's recent partnership with NCR Atleos and your expansion plans. It's clear you're on a strong growth trajectory.\n",
    "\n",
    "At Premier Star Aviation, we specialize in simplifying travel for busy teams. Our private jet brokerage ensures your executives can reach their destinations with ease, offering a straightforward pay-as-you-go service that's available around the clock.\n",
    "\n",
    "Do you need a quote for any upcoming flights?\n",
    "\n",
    "Best,\n",
    "\n",
    "Peter Silks\n",
    "\n",
    "Founding Partner\n",
    "\"\"\"\n",
    "\n",
    "example_email_2 = \"\"\"\n",
    "Hi Chloe,\n",
    "\n",
    "Firstly, congratulations on the remarkable visibility Richard Mille has gained with Anant Ambani's choice of timepiece for his pre-wedding festivities.\n",
    "\n",
    "I’d love to introduce our film studio CFH and see if you have any projects coming up this year that we can help you with?\n",
    "\n",
    "We specialise in luxury creative content and work with brands such as AMAN, Airelles, and Moët & Chandon.\n",
    "\n",
    "Would you be interested in seeing some of our work?\n",
    "\n",
    "Best wishes,\n",
    "\n",
    "Jessica\n",
    "\"\"\"\n",
    "\n",
    "example_email_3 = \"\"\"\n",
    "Hi James,\n",
    "\n",
    "Great to see the news about Lego’s decision to find an expanded London HQ near Liverpool Street. The partnership with Fortnite is clearly paying off!\n",
    "\n",
    "At Viking we’ve worked with multinationals including JP Morgan, Howden and Whole Foods to furnish their new locations with the best office supplies.\n",
    "\n",
    "We’re just down the street from you, would you be open to a coffee later this week to discuss your upcoming move?\n",
    "\n",
    "Best wishes,\n",
    "\n",
    "Madelyn Steele\n",
    "\n",
    "Head of Commercial\n",
    "\"\"\""
   ]
  },
  {
   "cell_type": "code",
   "execution_count": 7,
   "metadata": {},
   "outputs": [
    {
     "name": "stdout",
     "output_type": "stream",
     "text": [
      "Prospect Name                                                Arnold Palmer\n",
      "Prospect Role                                                          CEO\n",
      "Prospect Company Name                                            Anthropic\n",
      "Prospect Company news    Amazon completes $4B Anthropic investment to a...\n",
      "Name: 0, dtype: object\n"
     ]
    }
   ],
   "source": [
    "# Pulling example data\n",
    "dfdict = pd.read_excel(\"example_data.xlsx\", sheet_name=None)\n",
    "df = dfdict['Sheet1']\n",
    "example = df.iloc[0]\n",
    "print(example)"
   ]
  },
  {
   "cell_type": "code",
   "execution_count": 8,
   "metadata": {},
   "outputs": [],
   "source": [
    "# Function to generate personalised email given inputs using OpenAI call\n",
    "def generate_email(name, role, company_name, company_news):\n",
    "\n",
    "    email_prompt = f\"\"\"\n",
    "    You are an expert outbound sales agent specialised in email marketing at PerlonAI.\n",
    "    PerlonAI is a company that uses AI to help businesses send well-researched, hyper-personalized cold emails at scale.\n",
    "    The following information in triple ***'s is on PerlonAI's website:\n",
    "    ***PerlonAI: {perlon_description}***\n",
    "    Write a cold email to {name}, who is the {role} at {company_name}, advertising PerlonAI's offerings.\n",
    "    The following information in triple ***'s details recent news about {name}'s company, {company_name}. Use this information to personalise the email if applicable.\n",
    "    ***{company_name} News: {company_news}***\n",
    "    You must always use a professional but friendly tone.\n",
    "    You must always sign off as Brent Rohner, Co-Founder of PerlonAI.\n",
    "    Your email must not exceed 6 sentences. \n",
    "    Below are some cold email templates to guide you. \n",
    "    Example 1: {example_email_1}\n",
    "    Example 2: {example_email_2}\n",
    "    Example 3: {example_email_3}\n",
    "    \"\"\"\n",
    "\n",
    "    chat_completion = client.chat.completions.create(\n",
    "        model=\"gpt-4-turbo-2024-04-09\",\n",
    "        messages=[{\"role\":\"system\", \"content\": email_prompt}]\n",
    "    )\n",
    "    cold_email = chat_completion.choices[0].message.content\n",
    "\n",
    "    return cold_email"
   ]
  },
  {
   "cell_type": "code",
   "execution_count": 8,
   "metadata": {},
   "outputs": [
    {
     "name": "stdout",
     "output_type": "stream",
     "text": [
      "Subject: Enhance Your Outreach with PerlonAI's Hyper-Personalized Cold Emails\n",
      "\n",
      "Hi Arnold,\n",
      "\n",
      "Congratulations on Anthropic's recent advancements in generative AI and the unveiling of new challenging models! \n",
      "\n",
      "At PerlonAI, we specialise in helping companies like Anthropic send well-researched, hyper-personalized cold emails at scale. Our AI technologies are custom-built to increase email opens by 86% and generate 5X more replies compared to standard templates.\n",
      "\n",
      "Would you be interested in learning more about how PerlonAI can help Anthropic scale its outreach efforts effectively? \n",
      "\n",
      "Best regards,\n",
      "\n",
      "Brent Rohner\n",
      "Co-Founder\n",
      "PerlonAI\n"
     ]
    }
   ],
   "source": [
    "test = generate_email(example['Prospect Name'], example['Prospect Role'], example['Prospect Company Name'], example['Prospect Company news'])\n",
    "print(test)"
   ]
  },
  {
   "cell_type": "code",
   "execution_count": 11,
   "metadata": {},
   "outputs": [
    {
     "name": "stdout",
     "output_type": "stream",
     "text": [
      "Subject: Hyper-Personalized Cold Emails to Fuel Anthropic's Growth\n",
      "\n",
      "Hi Arnold,\n",
      "\n",
      "Congratulations on Anthropic's recent $4B investment from Amazon and the unveiling of your new AI models. As you continue to challenge Big Tech, I believe PerlonAI can help accelerate your growth by revolutionizing your email outreach.\n",
      "\n",
      "Our AI-powered platform enables you to send hyper-personalized cold emails at scale, leading to a 500% increase in replies and an 86% boost in open rates compared to traditional templates. By automating the research, crafting, and sending of emails directly from your team's mailboxes, PerlonAI saves valuable time and ensures your messages bypass spam filters effectively.\n",
      "\n",
      "I'd love to schedule a demo to show you how PerlonAI can transform Anthropic's email prospecting efforts and support your ongoing success. Let me know if you have any questions or if there's a convenient time for a quick call.\n",
      "\n",
      "Best regards,\n",
      "\n",
      "Brent Rohner\n",
      "Co-Founder of PerlonAI\n"
     ]
    }
   ],
   "source": [
    "# Testing Claude models \n",
    "def anthropic_generate_email(name, role, company_name, company_news):\n",
    "\n",
    "    email_prompt = f\"\"\"\n",
    "    You are an expert outbound sales agent specialised in email marketing at PerlonAI.\n",
    "    PerlonAI is a company that uses AI to help businesses send well-researched, hyper-personalized cold emails at scale.\n",
    "    The following information in triple ***'s is on PerlonAI's website:\n",
    "    ***PerlonAI: {perlon_description}***\n",
    "    Write a cold email to {name}, who is the {role} at {company_name}, advertising PerlonAI's offerings.\n",
    "    The following information in triple ***'s details recent news about {name}'s company, {company_name}. Use this information to personalise the email if applicable.\n",
    "    ***{company_name} News: {company_news}***\n",
    "    You must always use a professional but friendly tone.\n",
    "    You must always sign off as Brent Rohner, Co-Founder of PerlonAI.\n",
    "    Your email must not exceed 6 sentences. \n",
    "    Below are some cold email templates to guide you. \n",
    "    Example 1: {example_email_1}\n",
    "    Example 2: {example_email_2}\n",
    "    Example 3: {example_email_3}\n",
    "    \"\"\"\n",
    "\n",
    "    message = anthropic_client.messages.create(\n",
    "        model=\"claude-3-opus-20240229\",\n",
    "        max_tokens=300,\n",
    "        temperature=0.0,\n",
    "        system=email_prompt,\n",
    "        messages=[\n",
    "            {'role':'user', 'content': 'generate the email!'}\n",
    "        ]\n",
    "    )\n",
    "    \n",
    "    cold_email = message.content[0].text\n",
    "    return cold_email"
   ]
  },
  {
   "cell_type": "code",
   "execution_count": null,
   "metadata": {},
   "outputs": [],
   "source": [
    "test = anthropic_generate_email(example['Prospect Name'], example['Prospect Role'], example['Prospect Company Name'], example['Prospect Company news'])\n",
    "print(test)"
   ]
  },
  {
   "cell_type": "code",
   "execution_count": 21,
   "metadata": {},
   "outputs": [
    {
     "name": "stderr",
     "output_type": "stream",
     "text": [
      "/var/folders/0c/bxf3tpv51tq6yhtn2r7wsxb00000gn/T/ipykernel_3341/2179649652.py:5: TqdmDeprecationWarning: This function will be removed in tqdm==5.0.0\n",
      "Please use `tqdm.notebook.tqdm` instead of `tqdm.tqdm_notebook`\n",
      "  for i in tqdm(range(len(df))):\n"
     ]
    },
    {
     "data": {
      "application/vnd.jupyter.widget-view+json": {
       "model_id": "c596b208af9743aa8e769aa76bd03f9e",
       "version_major": 2,
       "version_minor": 0
      },
      "text/plain": [
       "  0%|          | 0/7 [00:00<?, ?it/s]"
      ]
     },
     "metadata": {},
     "output_type": "display_data"
    }
   ],
   "source": [
    "# Generating all example emails \n",
    "chatgpt_emails = []\n",
    "claude_emails = []\n",
    "\n",
    "for i in tqdm(range(len(df))):\n",
    "    example = df.iloc[i]\n",
    "    gpt_email = generate_email(example['Prospect Name'], example['Prospect Role'], example['Prospect Company Name'], example['Prospect Company news'])\n",
    "    claude_email = anthropic_generate_email(example['Prospect Name'], example['Prospect Role'], example['Prospect Company Name'], example['Prospect Company news'])\n",
    "    chatgpt_emails.append(gpt_email)\n",
    "    claude_emails.append(claude_email)\n",
    "\n",
    "# Saving generated emails to csv \n",
    "results_dict = {\"gpt_emails\": chatgpt_emails, \"claude_emails\": claude_emails}\n",
    "results_df = pd.DataFrame(results_dict)\n",
    "results_df.to_csv(\"results.csv\")"
   ]
  },
  {
   "cell_type": "markdown",
   "metadata": {},
   "source": [
    "### Brief Cost Analysis\n",
    "- Claude: input=$15/1m tokens, output=$75/1m tokens\n",
    "- OpenAI: input=$10/1m tokens, output=$30/1m tokens"
   ]
  },
  {
   "cell_type": "code",
   "execution_count": 29,
   "metadata": {},
   "outputs": [],
   "source": [
    "# Function to create prompt (to count input tokens)\n",
    "def create_prompt(name, role, company_name, company_news):\n",
    "    email_prompt = f\"\"\"\n",
    "    You are an expert outbound sales agent specialised in email marketing at PerlonAI.\n",
    "    PerlonAI is a company that uses AI to help businesses send well-researched, hyper-personalized cold emails at scale.\n",
    "    The following information in triple ***'s is on PerlonAI's website:\n",
    "    ***PerlonAI: {perlon_description}***\n",
    "    Write a cold email to {name}, who is the {role} at {company_name}, advertising PerlonAI's offerings.\n",
    "    The following information in triple ***'s details recent news about {name}'s company, {company_name}. Use this information to personalise the email if applicable.\n",
    "    ***{company_name} News: {company_news}***\n",
    "    You must always use a professional but friendly tone.\n",
    "    You must always sign off as Brent Rohner, Co-Founder of PerlonAI.\n",
    "    Your email must not exceed 6 sentences. \n",
    "    Below are some cold email templates to guide you. \n",
    "    Example 1: {example_email_1}\n",
    "    Example 2: {example_email_2}\n",
    "    Example 3: {example_email_3}\n",
    "    \"\"\"\n",
    "    return email_prompt"
   ]
  },
  {
   "cell_type": "code",
   "execution_count": 34,
   "metadata": {},
   "outputs": [
    {
     "name": "stdout",
     "output_type": "stream",
     "text": [
      "[828, 848, 824, 820, 835, 819, 819]\n",
      "[130, 152, 139, 138, 151, 130, 141]\n",
      "[188, 187, 155, 158, 188, 189, 158]\n"
     ]
    }
   ],
   "source": [
    "# Cost analysis \n",
    "results_df = pd.read_csv(\"results.csv\")\n",
    "\n",
    "encoding = tiktoken.get_encoding(\"cl100k_base\")\n",
    "\n",
    "input_tokens = []\n",
    "gpt_output_tokens = []\n",
    "claude_output_tokens = []\n",
    "\n",
    "# Counting num input tokens for each prompt\n",
    "for i in range(len(df)):\n",
    "    example = df.iloc[i]\n",
    "    p = create_prompt(example['Prospect Name'], example['Prospect Role'], example['Prospect Company Name'], example['Prospect Company news'])\n",
    "    num_tokens = len(encoding.encode(p))\n",
    "    input_tokens.append(num_tokens)\n",
    "\n",
    "# Counting num output tokens for gpt & claude emails\n",
    "for i in range(len(results_df)):\n",
    "    email = results_df.iloc[i]\n",
    "    gpt_tokens = encoding.encode(email['gpt_emails'])\n",
    "    gpt_output_tokens.append(len(gpt_tokens))\n",
    "    claude_tokens = encoding.encode(email['claude_emails'])\n",
    "    claude_output_tokens.append(len(claude_tokens))\n",
    "\n",
    "print(input_tokens)\n",
    "print(gpt_output_tokens)\n",
    "print(claude_output_tokens)"
   ]
  },
  {
   "cell_type": "code",
   "execution_count": 40,
   "metadata": {},
   "outputs": [
    {
     "name": "stdout",
     "output_type": "stream",
     "text": [
      "The average cost per claude email is : $ 0.026\n",
      "The average cost per gpt email is: $ 0.012\n"
     ]
    }
   ],
   "source": [
    "# Calculating cost per email\n",
    "claude_email_costs = []\n",
    "gpt_email_costs = []\n",
    "\n",
    "for i in range(len(input_tokens)):\n",
    "    claude_cost = input_tokens[i]*15/1000000 + claude_output_tokens[i]*75/1000000\n",
    "    claude_email_costs.append(claude_cost)\n",
    "    gpt_cost = input_tokens[i]*10/1000000 + gpt_output_tokens[i]*30/1000000\n",
    "    gpt_email_costs.append(gpt_cost)\n",
    "\n",
    "print(\"The average cost per claude email is : $\", round(statistics.mean(claude_email_costs),3))\n",
    "print(\"The average cost per gpt email is: $\", round(statistics.mean(gpt_email_costs),3))"
   ]
  },
  {
   "cell_type": "markdown",
   "metadata": {},
   "source": [
    "### Refining Prompt Template\n",
    "- selected gpt for cheap $\n",
    "- creating email subject\n",
    "- incorporating linkedin post information\n",
    "- max 75 words\n",
    "- subject line, less than 5 words\n",
    "- added subject line examples, [20 Cold Email Subject Line Examples — That Actually Get Responses](https://www.brafton.co.uk/blog/email-marketing/20-cold-email-subject-lines-that-actually-get-responses/)\n",
    "- moving recipient information into user content "
   ]
  },
  {
   "cell_type": "code",
   "execution_count": 9,
   "metadata": {},
   "outputs": [],
   "source": [
    "# Example subject lines \n",
    "example_sl_1 = \"Let's talk about email sales\"\n",
    "example_sl_2 = \"Have you solved your sales problem yet?\"\n",
    "example_sl_3 = \"Essential resources to help you with email sales\""
   ]
  },
  {
   "cell_type": "code",
   "execution_count": 10,
   "metadata": {},
   "outputs": [],
   "source": [
    "# Function to create refined prompt (to count input tokens)\n",
    "def create_refined_prompt(name, role, company_name, company_news):\n",
    "    email_prompt = f\"\"\"\n",
    "    You are an expert outbound sales agent specialised in email marketing at PerlonAI.\n",
    "    PerlonAI is a company that uses AI to help businesses send well-researched, hyper-personalized cold emails at scale.\n",
    "    The following information in triple ***'s is on PerlonAI's website:\n",
    "    ***PerlonAI: {perlon_description}***\n",
    "    Write a cold email with a subject line to be sent to {name}, who is the {role} at {company_name}, advertising PerlonAI's offerings.\n",
    "    Your subject line must be less than 5 words.\n",
    "    Your email must be less than 75 words.\n",
    "    You must always sign off as Brent Rohner, Co-Founder of PerlonAI.\n",
    "    The following information in triple ***'s details recent news about {name}'s company, {company_name}. Use this information to personalise the email if applicable.\n",
    "    ***{company_name} News: {company_news}***\n",
    "    Here are some example subject lines:\n",
    "    Example Subject Line 1: {example_sl_1}\n",
    "    Example Subject Line 2: {example_sl_2}\n",
    "    Example Subject Line 3: {example_sl_3}\n",
    "    Here are some example cold emails:\n",
    "    Example Email 1: {example_email_1}\n",
    "    Example Email 2: {example_email_2}\n",
    "    Example Email 3: {example_email_3}\n",
    "    \"\"\"\n",
    "    return email_prompt"
   ]
  },
  {
   "cell_type": "code",
   "execution_count": 40,
   "metadata": {},
   "outputs": [],
   "source": [
    "# Function to generate personalised email given inputs, refined template\n",
    "def generate_email_refined(name, role, company_name, company_news):\n",
    "\n",
    "    email_prompt = create_refined_prompt(name, role, company_name, company_news)\n",
    "\n",
    "    chat_completion = client.chat.completions.create(\n",
    "        model=\"gpt-4-turbo-2024-04-09\",\n",
    "        messages=[{\"role\":\"system\", \"content\": email_prompt}]\n",
    "    )\n",
    "    cold_email = chat_completion.choices[0].message.content\n",
    "\n",
    "    return cold_email"
   ]
  },
  {
   "cell_type": "code",
   "execution_count": 42,
   "metadata": {},
   "outputs": [
    {
     "name": "stdout",
     "output_type": "stream",
     "text": [
      "Subject Line: Boost Your Email Impact\n",
      "\n",
      "Hi Arnold,\n",
      "\n",
      "Congratulations on Anthropic's recent achievements with Amazon and your AI innovations! At PerlonAI, we specialize in using AI to enhance email campaigns, ensuring each message is unique and perfectly tailored.\n",
      "\n",
      "Given your growth, maximizing your outreach’s efficiency and response could be pivotal. Interested in a quick demo to see how we can help?\n",
      "\n",
      "Best regards,\n",
      "\n",
      "Brent Rohner\n",
      "\n",
      "Co-Founder, PerlonAI\n"
     ]
    }
   ],
   "source": [
    "test = generate_email_refined(example['Prospect Name'], example['Prospect Role'], example['Prospect Company Name'], example['Prospect Company news'])\n",
    "print(test)"
   ]
  },
  {
   "cell_type": "code",
   "execution_count": 11,
   "metadata": {},
   "outputs": [],
   "source": [
    "# Function to generate personalised email, moving inputs into user content field\n",
    "def generate_email_refined_v2(name, role, company_name, company_news):\n",
    "\n",
    "    email_prompt = f\"\"\"\n",
    "    You are an expert outbound sales agent specialised in email marketing at PerlonAI.\n",
    "    PerlonAI is a company that uses AI to help businesses send well-researched, hyper-personalized cold emails at scale.\n",
    "    The following information in triple ***'s is on PerlonAI's website:\n",
    "    ***PerlonAI: {perlon_description}***\n",
    "    Write a personalised cold email with a subject line to the specified person, advertising PerlonAi's offerings.\n",
    "    Your subject line must be less than 5 words.\n",
    "    Your email must be less than 75 words.\n",
    "    You must always sign off as Brent Rohner, Co-Founder of PerlonAI.\n",
    "    Here are some example subject lines:\n",
    "    Example Subject Line 1: {example_sl_1}\n",
    "    Example Subject Line 2: {example_sl_2}\n",
    "    Example Subject Line 3: {example_sl_3}\n",
    "    Here are some example cold emails:\n",
    "    Example Email 1: {example_email_1}\n",
    "    Example Email 2: {example_email_2}\n",
    "    Example Email 3: {example_email_3}\n",
    "    \"\"\"\n",
    "\n",
    "    user_input = f\"\"\"\n",
    "    Write an email to {name}, who is the {role} at {company_name}. Here is some recent news about {company_name}: {company_news}\n",
    "    \"\"\"\n",
    "\n",
    "    chat_completion = client.chat.completions.create(\n",
    "        model=\"gpt-4-turbo-2024-04-09\",\n",
    "        messages=[{\"role\":\"system\", \"content\": email_prompt}, {\"role\":\"user\", \"content\":user_input}]\n",
    "    )\n",
    "    cold_email = chat_completion.choices[0].message.content\n",
    "\n",
    "    return cold_email"
   ]
  },
  {
   "cell_type": "code",
   "execution_count": 18,
   "metadata": {},
   "outputs": [
    {
     "name": "stdout",
     "output_type": "stream",
     "text": [
      "Subject Line: Elevate Your AI Email Strategy\n",
      "\n",
      "Hi Arnold,\n",
      "\n",
      "Congratulations on Anthropic's recent milestones with Amazon and your innovative AI models! I'm Brent Rohner from PerlonAI, where we enhance email outreach through AI-driven personalization.\n",
      "\n",
      "Our technology could synergistically augment your customer engagement, increasing open rates and replies significantly. Interested in a quick demo to see the potential uplift in action?\n",
      "\n",
      "Best regards,\n",
      "\n",
      "Brent Rohner\n",
      "Co-Founder, PerlonAI\n"
     ]
    }
   ],
   "source": [
    "test = generate_email_refined_v2(example['Prospect Name'], example['Prospect Role'], example['Prospect Company Name'], example['Prospect Company news'])\n",
    "print(test)"
   ]
  },
  {
   "cell_type": "markdown",
   "metadata": {},
   "source": [
    "### LLM Evaluation \n",
    "- guidelines to evaluate cold email \n",
    "- assess subject line, humanness, relevance, persuasiveness"
   ]
  },
  {
   "cell_type": "code",
   "execution_count": 12,
   "metadata": {},
   "outputs": [],
   "source": [
    "# Function to evaluate a given email based on above metrics\n",
    "def evaluate_email(email):\n",
    "    model = ChatOpenAI(model_name=\"gpt-3.5-turbo\")  \n",
    "    response_schemas = [\n",
    "        ResponseSchema(name=\"subject_line\", description=\"Does the subject line sound convincing, out of 5?\"),\n",
    "        ResponseSchema(name=\"humanness\", description=\"Does the email sound human, out of 5?\"),\n",
    "        ResponseSchema(name=\"relevance\", description=\"Is the email relevant, out of 5?\"),    \n",
    "        ResponseSchema(name=\"persuasiveness\", description=\"Is the email persuasive, out of 5?\"),        \n",
    "    ]\n",
    "    output_parser = StructuredOutputParser.from_response_schemas(response_schemas)\n",
    "    format_instructions = output_parser.get_format_instructions()\n",
    "    prompt = PromptTemplate(\n",
    "        template=\"\"\"You are an expert at writing cold emails that generate leads. \n",
    "        Evaluate following cold email and subject line, considering the subject line and the humanness, relevance and persuasiveness of the email.\n",
    "        If the subject line does not exist or it sounds like it would trigger spam filters, set the subject_line to 0. \n",
    "        Format instructions: {format_instructions}\n",
    "        Cold Email: {cold_email}\"\"\",\n",
    "        input_variables=[\"cold_email\"],\n",
    "        partial_variables={\"format_instructions\": format_instructions},\n",
    "    )\n",
    "    chain = prompt | model | output_parser\n",
    "    result = chain.invoke({\"cold_email\": email})\n",
    "    return result\n",
    "    "
   ]
  },
  {
   "cell_type": "code",
   "execution_count": 19,
   "metadata": {},
   "outputs": [
    {
     "name": "stdout",
     "output_type": "stream",
     "text": [
      "Subject Line: Great Product\n",
      "Hi Dave, buy my product please. \n",
      "Thanks\n",
      "{'subject_line': '0', 'humanness': '2', 'relevance': '1', 'persuasiveness': '2'}\n",
      "Subject Line: Elevate Your AI Email Strategy\n",
      "\n",
      "Hi Arnold,\n",
      "\n",
      "Congratulations on Anthropic's recent milestones with Amazon and your innovative AI models! I'm Brent Rohner from PerlonAI, where we enhance email outreach through AI-driven personalization.\n",
      "\n",
      "Our technology could synergistically augment your customer engagement, increasing open rates and replies significantly. Interested in a quick demo to see the potential uplift in action?\n",
      "\n",
      "Best regards,\n",
      "\n",
      "Brent Rohner\n",
      "Co-Founder, PerlonAI\n",
      "{'subject_line': '4', 'humanness': '5', 'relevance': '5', 'persuasiveness': '4'}\n"
     ]
    }
   ],
   "source": [
    "bad_email = \"\"\"Subject Line: Great Product\n",
    "Hi Dave, buy my product please. \n",
    "Thanks\"\"\"\n",
    "bad_email_evaluation = evaluate_email(bad_email)\n",
    "print(bad_email)\n",
    "print(bad_email_evaluation)\n",
    "\n",
    "test_evaluation = evaluate_email(test)\n",
    "print(test)\n",
    "print(test_evaluation)"
   ]
  },
  {
   "cell_type": "markdown",
   "metadata": {},
   "source": [
    "### ReAct Framework\n",
    "- testing ReAct agent framework, [LangChain ReAct](https://python.langchain.com/docs/modules/agents/agent_types/react/), [Arize.com](https://arize.com/blog-course/react-agent-llm/)\n",
    "- using the evaluator function as a tool\n",
    "\n",
    "*needs to be reworked, agent/tool setup is unclear/nonsensical*"
   ]
  },
  {
   "cell_type": "code",
   "execution_count": 45,
   "metadata": {},
   "outputs": [],
   "source": [
    "#instruction prompt for agent \n",
    "agent_instructions = f\"\"\"\n",
    "    You are an expert outbound sales agent specialised in email marketing at PerlonAI.\n",
    "    PerlonAI is a company that uses AI to help businesses send well-researched, hyper-personalized cold emails at scale.\n",
    "    The following information in triple ***'s is on PerlonAI's website:\n",
    "    ***PerlonAI: {perlon_description}***\n",
    "    Write a personalised cold email with a subject line to the specified person, advertising PerlonAi's offerings.\n",
    "    If your generated email has a score of greater than 15 on the evaluator tool, submit this as your final answer.\n",
    "    Your subject line must be less than 5 words.\n",
    "    Your email must be less than 75 words.\n",
    "    You must always sign off as Brent Rohner, Co-Founder of PerlonAI.\n",
    "    \"\"\"\n",
    "    # Here are some example subject lines:\n",
    "    # Example Subject Line 1: {example_sl_1}\n",
    "    # Example Subject Line 2: {example_sl_2}\n",
    "    # Example Subject Line 3: {example_sl_3}\n",
    "    # Here are some example cold emails:\n",
    "    # Example Email 1: {example_email_1}\n",
    "    # Example Email 2: {example_email_2}\n",
    "    # Example Email 3: {example_email_3}\n",
    "\n",
    "# Wrapper function to be passed into agent as a tool\n",
    "def evaluate(email):\n",
    "    score = 0\n",
    "    evaluation = evaluate_email(email)\n",
    "    score += int(evaluation['subject_line'])\n",
    "    score += int(evaluation['humanness'])\n",
    "    score += int(evaluation['relevance'])\n",
    "    score += int(evaluation['persuasiveness'])\n",
    "    result = \"Email Score: \" + str(score) + \"/20\"\n",
    "    return result\n"
   ]
  },
  {
   "cell_type": "code",
   "execution_count": 52,
   "metadata": {},
   "outputs": [],
   "source": [
    "# Function to call ReAct agent to generate email \n",
    "# Uses the evaluator tool to keep checking \n",
    "def email_agent(name, role, company_name, company_news):\n",
    "   \n",
    "   tools = [\n",
    "      Tool(\n",
    "         name=\"evaluate\",\n",
    "         func=evaluate,\n",
    "         description=\"Evaluate your cold email.\",\n",
    "      )\n",
    "   ]\n",
    "\n",
    "   input = f\"\"\"\n",
    "      Write an email to {name}, who is the {role} at {company_name}. Here is some recent news about {company_name}: {company_news}. \n",
    "      \"\"\"\n",
    "   \n",
    "   prefix = agent_instructions\n",
    "   prompt = ZeroShotAgent.create_prompt(\n",
    "      tools, prefix=prefix, input_variables=[\"input\"]\n",
    "   )\n",
    "   # print(prompt.template)\n",
    "   llm_chain = LLMChain(llm=OpenAI(), prompt=prompt)   \n",
    "   tool_names = [tool.name for tool in tools]\n",
    "   agent = ZeroShotAgent(llm_chain=llm_chain, allowed_tools=tool_names)\n",
    "   agent_executor = AgentExecutor.from_agent_and_tools(\n",
    "       agent=agent, tools=tools, verbose=True\n",
    "   )\n",
    "   result = agent_executor.run(input)\n",
    "   return result\n"
   ]
  },
  {
   "cell_type": "code",
   "execution_count": 53,
   "metadata": {},
   "outputs": [
    {
     "name": "stdout",
     "output_type": "stream",
     "text": [
      "\n",
      "    You are an expert outbound sales agent specialised in email marketing at PerlonAI.\n",
      "    PerlonAI is a company that uses AI to help businesses send well-researched, hyper-personalized cold emails at scale.\n",
      "    The following information in triple ***'s is on PerlonAI's website:\n",
      "    ***PerlonAI: PerlonAI specializes in the creation and distribution of automated, hyper-personalized cold emails designed to significantly improve engagement and response rates over standard email templates. The company employs sophisticated AI models tailored to each customer's unique brand voice and requirements. These AI models automate the entire process, including researching, crafting, and sending emails directly from the user's mailbox.\n",
      "\n",
      "Key benefits reported by PerlonAI include:\n",
      "1. **Increased Efficiency**: Template-based campaigns are statistically ineffective; PerlonAI enables personalization at scale without the extensive time investment traditionally required to craft personalized emails, claiming to provide 500% more replies and an 86% increase in email opens.\n",
      "2. **Time Savings**: It reduces the time spent on drafting emails from 15-30 minutes each to essentially zero, giving sales teams more time to focus on closing deals.\n",
      "3. **Spam Filter Navigation**: Because each email is unique, they are more likely to bypass spam filters effectively.\n",
      "4. **Enhanced Email Volume**: The system supports sending a significantly higher volume of emails compared to manual drafting.\n",
      "\n",
      "The process includes a consultation to understand client objectives, model building which leverages real-time data, and integration directly with the client's existing mailboxes to start campaigns effectively within three days.\n",
      "\n",
      "Prospective clients are encouraged to book a demo to see how PerlonAI can help automate their email prospecting efforts, aiming to transform how companies conduct their outreach by merging automation with personalization for superior results.***\n",
      "    Write a personalised cold email with a subject line to the specified person, advertising PerlonAi's offerings.\n",
      "    If your generated email has a score of greater than 15 on the evaluator tool, submit this as your final answer.\n",
      "    Your subject line must be less than 5 words.\n",
      "    Your email must be less than 75 words.\n",
      "    You must always sign off as Brent Rohner, Co-Founder of PerlonAI.\n",
      "    \n",
      "\n",
      "evaluate: Evaluate your cold email.\n",
      "\n",
      "Use the following format:\n",
      "\n",
      "Question: the input question you must answer\n",
      "Thought: you should always think about what to do\n",
      "Action: the action to take, should be one of [evaluate]\n",
      "Action Input: the input to the action\n",
      "Observation: the result of the action\n",
      "... (this Thought/Action/Action Input/Observation can repeat N times)\n",
      "Thought: I now know the final answer\n",
      "Final Answer: the final answer to the original input question\n",
      "\n",
      "Begin!\n",
      "\n",
      "Question: {input}\n",
      "Thought:{agent_scratchpad}\n",
      "None\n"
     ]
    }
   ],
   "source": [
    "test = email_agent(example['Prospect Name'], example['Prospect Role'], example['Prospect Company Name'], example['Prospect Company news'])\n",
    "print(test)"
   ]
  },
  {
   "cell_type": "markdown",
   "metadata": {},
   "source": [
    "## Further Improvements"
   ]
  },
  {
   "cell_type": "markdown",
   "metadata": {},
   "source": [
    "- further investigation of agent methods: better tools? multi-agent?\n",
    "- improve evaluation mechanism: run generation and evaluation in a loop until threshold t reached\n",
    "- find better email templates\n",
    "- define branding / voice better (finetuning? need more data)\n",
    "- complete ML cycle: deploy & gather more data by testing success rate of generated emails "
   ]
  }
 ],
 "metadata": {
  "kernelspec": {
   "display_name": ".venv",
   "language": "python",
   "name": "python3"
  },
  "language_info": {
   "codemirror_mode": {
    "name": "ipython",
    "version": 3
   },
   "file_extension": ".py",
   "mimetype": "text/x-python",
   "name": "python",
   "nbconvert_exporter": "python",
   "pygments_lexer": "ipython3",
   "version": "3.9.10"
  }
 },
 "nbformat": 4,
 "nbformat_minor": 2
}
