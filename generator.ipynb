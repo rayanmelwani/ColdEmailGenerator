{
 "cells": [
  {
   "cell_type": "markdown",
   "metadata": {},
   "source": [
    "# Cold Email Generator \n",
    "\n",
    "This notebook contains a experimentation of different techniques to generate personalised cold emails using LLMs. The final implementation allows for customisation of the following features:\n",
    "- Sender & company information\n",
    "- Recipient information\n",
    "\n",
    "Company specific information about the sender is scraped from the user-provided website (to ground the emails in product / service offerings) and recipient information is provided by the user. These are then fed into the generator to create personalised cold emails.\n",
    "\n",
    "The notebook is split into the following sections:\n",
    "- Setup\n",
    "- Experimentation\n",
    "- Further Improvements"
   ]
  },
  {
   "cell_type": "markdown",
   "metadata": {},
   "source": [
    "## Setup"
   ]
  },
  {
   "cell_type": "code",
   "execution_count": 3,
   "metadata": {},
   "outputs": [],
   "source": [
    "! pip freeze > requirements.txt"
   ]
  },
  {
   "cell_type": "code",
   "execution_count": 1,
   "metadata": {},
   "outputs": [],
   "source": [
    "from openai import OpenAI\n",
    "from dotenv import load_dotenv\n",
    "import os\n",
    "from bs4 import BeautifulSoup\n",
    "import urllib.request\n",
    "import pandas as pd\n",
    "import anthropic\n",
    "from tqdm import tqdm_notebook as tqdm\n",
    "import tiktoken\n",
    "import statistics\n",
    "from langchain.output_parsers import ResponseSchema, StructuredOutputParser\n",
    "from langchain_core.prompts import PromptTemplate\n",
    "from langchain_community.chat_models import ChatOpenAI\n",
    "from langchain.agents import ZeroShotAgent, Tool, AgentExecutor\n",
    "from langchain import LLMChain"
   ]
  },
  {
   "cell_type": "code",
   "execution_count": 4,
   "metadata": {},
   "outputs": [],
   "source": [
    "load_dotenv()\n",
    "client = OpenAI()\n",
    "anthropic_client = anthropic.Anthropic()"
   ]
  },
  {
   "cell_type": "markdown",
   "metadata": {},
   "source": [
    "## Experimentation"
   ]
  },
  {
   "cell_type": "code",
   "execution_count": 5,
   "metadata": {},
   "outputs": [
    {
     "name": "stdout",
     "output_type": "stream",
     "text": [
      "Hello! How can I assist you today?\n"
     ]
    }
   ],
   "source": [
    "#Testing OpenAI calls\n",
    "chat_completion = client.chat.completions.create(\n",
    "    model=\"gpt-3.5-turbo\",\n",
    "    messages=[{\"role\": \"user\", \"content\": \"Hello world\"}]\n",
    ")\n",
    "res = chat_completion.choices[0].message.content\n",
    "print(res)"
   ]
  },
  {
   "cell_type": "markdown",
   "metadata": {},
   "source": [
    "### Generating Sender-related Information\n",
    "- need information about who is sending the email (company, name, role)\n",
    "- provide website url\n",
    "- scraping information and llm generated description of products / offerings"
   ]
  },
  {
   "cell_type": "code",
   "execution_count": 6,
   "metadata": {},
   "outputs": [],
   "source": [
    "# Sender-specific information (example)\n",
    "SENDER_COMPANY = \"Swapp\"\n",
    "SENDER_NAME = \"Alex Amalfi\"\n",
    "SENDER_COMPANY_DESCRIPTION = \"Swapp is a company that leverages AI to create architectural documentation.\"\n",
    "SENDER_ROLE = \"Co-Founder of Swapp\""
   ]
  },
  {
   "cell_type": "code",
   "execution_count": 7,
   "metadata": {},
   "outputs": [],
   "source": [
    "#Making request from website - example: Calendly\n",
    "website_url = \"https://www.swapp.ai/\"\n",
    "fp = urllib.request.urlopen(website_url)\n",
    "mybytes = fp.read()\n",
    "\n",
    "html_doc = mybytes.decode(\"utf8\")\n",
    "fp.close()\n",
    "\n",
    "# print(html_doc)"
   ]
  },
  {
   "cell_type": "code",
   "execution_count": 8,
   "metadata": {},
   "outputs": [],
   "source": [
    "#Getting only text from website\n",
    "soup = BeautifulSoup(html_doc, 'html.parser')\n",
    "website_content = soup.get_text()\n",
    "# print(website_content)"
   ]
  },
  {
   "cell_type": "code",
   "execution_count": 9,
   "metadata": {},
   "outputs": [
    {
     "name": "stdout",
     "output_type": "stream",
     "text": [
      "The web page for Swapp, an AI-focused company, introduces innovative solutions for enhancing architectural documentation through AI technology. Swapp aims to leverage the data from a firm's previous projects to improve the efficiency and performance of architectural teams. By analyzing project portfolios, Swapp extracts design habits and annotation practices to develop customized rule sets and algorithms. These are used to automate the creation and detailed annotation of new architectural documentation, thereby maintaining high standards while improving delivery times.\n",
      "\n",
      "Swapp offers several benefits for architectural firms:\n",
      "1. **Innovation**: Swapp supports architectural teams through all phases of a project, from schematic design to construction documentation, integrating AI tools seamlessly into existing workflows without the need for learning new software.\n",
      "2. **Profitability**: By automating time-consuming drafting tasks, Swapp allows firms to handle multiple projects more efficiently, reducing the need for overtime and enhancing client satisfaction.\n",
      "3. **Talent**: By automating the initial stages of drafting typically handled by junior architects, firms can accelerate the professional development of their talent, making them more attractive to top young architects.\n",
      "4. **Data Security**: Swapp prioritizes client data security, ensuring that all data used to train models is kept private and secure, with outputs tailored specifically to each firm's requirements.\n",
      "\n",
      "Swapp promotes responsible AI use, positioning itself as a partner that enhances the firm's expertise and project management capabilities. The company has completed over 200 projects across various sectors, demonstrating a broad and effective application of its technology. \n",
      "\n",
      "Additionally, the site mentions recent events and achievements, including a $11.5M Series A funding round, and participation in high-profile industry conferences. Swapp also hosts events like The Architecture Disruption Society Meetup series. Contact information and privacy policy details are provided for firms interested in adopting Swapp's AI solutions.\n"
     ]
    }
   ],
   "source": [
    "prompt = \"\"\"\n",
    "You are an expert at parsing and extracting information from websites. \n",
    "You will recieve the extracted content from a website.\n",
    "Summarise this content, extracting key information about the company, statistics and business offerings.\n",
    "\"\"\"\n",
    "chat_completion = client.chat.completions.create(\n",
    "    model=\"gpt-4-turbo-2024-04-09\",\n",
    "    messages=[{\"role\":\"system\", \"content\": prompt, \"role\": \"user\", \"content\": f\"Can you please summarise: {website_content}\"}]\n",
    ")\n",
    "COMPANY_WEBSITE_DESCRIPTION = chat_completion.choices[0].message.content\n",
    "print(COMPANY_WEBSITE_DESCRIPTION)"
   ]
  },
  {
   "cell_type": "code",
   "execution_count": 10,
   "metadata": {},
   "outputs": [],
   "source": [
    "# Saved generated description from above\n",
    "COMPANY_WEBSITE_DESCRIPTION = \"\"\"The Swapp Official Site introduces a new era in architectural documentation, leveraging AI to improve processes and results. Swapp enhances architectural firms by extracting data from previous projects and using it to create and automate detailed new project documentation. This process is aimed at boosting team performance, maintaining high standards, and improving delivery times without sacrificing quality.\n",
    "Key benefits for architects using Swapp include:\n",
    "1. **Integration of Cutting-Edge Technology**: Swapp works alongside architectural teams from conception through to construction documentation, improving workflow and efficiency without the need for learning new tools.\n",
    "2. **Increased Profitability**: By automating time-consuming drafting tasks, firms can handle more projects simultaneously, reduce overtime, and provide added value to clients, thus boosting profitability.\n",
    "3. **Talent Attraction**: Automation allows firms to move junior architects to drafting work sooner, enhancing career development and making the firm more attractive to top new talent.\n",
    "4. **Data Security and Personalization**: Swapp prioritizes client data privacy and security, using client data to create customized tools and outputs, without retaining ownership of the data.\n",
    "Swapp positions itself as a responsible AI partner in architecture, enhancing project management and design through seasoned experience across various sectors including healthcare, education, and hospitality. The platform is committed to safeguarding information and optimizing both past and current projects, thereby ensuring that clients’ expertise takes precedence.\n",
    "Swapp's contact details and headquarters are provided along with an invitation to architects and firms to connect and explore how its AI technology can help streamline their architectural processes.\"\"\""
   ]
  },
  {
   "cell_type": "markdown",
   "metadata": {},
   "source": [
    "### Few-shot prompting\n",
    "- example cold emails\n",
    "- few-shot prompting \n",
    "- OpenAI vs Anthropic"
   ]
  },
  {
   "cell_type": "code",
   "execution_count": 11,
   "metadata": {},
   "outputs": [],
   "source": [
    "# Good example emails\n",
    "example_email_1 = \"\"\"Hi Addie,\n",
    "\n",
    "I saw the news about VyStar Credit Union's recent partnership with NCR Atleos and your expansion plans. It's clear you're on a strong growth trajectory.\n",
    "\n",
    "At Premier Star Aviation, we specialize in simplifying travel for busy teams. Our private jet brokerage ensures your executives can reach their destinations with ease, offering a straightforward pay-as-you-go service that's available around the clock.\n",
    "\n",
    "Do you need a quote for any upcoming flights?\n",
    "\n",
    "Best,\n",
    "\n",
    "Peter Silks\n",
    "\n",
    "Founding Partner\n",
    "\"\"\"\n",
    "\n",
    "example_email_2 = \"\"\"\n",
    "Hi Chloe,\n",
    "\n",
    "Firstly, congratulations on the remarkable visibility Richard Mille has gained with Anant Ambani's choice of timepiece for his pre-wedding festivities.\n",
    "\n",
    "I’d love to introduce our film studio CFH and see if you have any projects coming up this year that we can help you with?\n",
    "\n",
    "We specialise in luxury creative content and work with brands such as AMAN, Airelles, and Moët & Chandon.\n",
    "\n",
    "Would you be interested in seeing some of our work?\n",
    "\n",
    "Best wishes,\n",
    "\n",
    "Jessica\n",
    "\"\"\"\n",
    "\n",
    "example_email_3 = \"\"\"\n",
    "Hi James,\n",
    "\n",
    "Great to see the news about Lego’s decision to find an expanded London HQ near Liverpool Street. The partnership with Fortnite is clearly paying off!\n",
    "\n",
    "At Viking we’ve worked with multinationals including JP Morgan, Howden and Whole Foods to furnish their new locations with the best office supplies.\n",
    "\n",
    "We’re just down the street from you, would you be open to a coffee later this week to discuss your upcoming move?\n",
    "\n",
    "Best wishes,\n",
    "\n",
    "Madelyn Steele\n",
    "\n",
    "Head of Commercial\n",
    "\"\"\""
   ]
  },
  {
   "cell_type": "code",
   "execution_count": 12,
   "metadata": {},
   "outputs": [
    {
     "name": "stdout",
     "output_type": "stream",
     "text": [
      "Prospect Name                                                Arnold Palmer\n",
      "Prospect Role                                                          CEO\n",
      "Prospect Company Name                                            Anthropic\n",
      "Prospect Company news    Amazon completes $4B Anthropic investment to a...\n",
      "Name: 0, dtype: object\n"
     ]
    }
   ],
   "source": [
    "# Pulling example data\n",
    "dfdict = pd.read_excel(\"example_data.xlsx\", sheet_name=None)\n",
    "df = dfdict['Sheet1']\n",
    "example = df.iloc[0]\n",
    "print(example)"
   ]
  },
  {
   "cell_type": "code",
   "execution_count": 13,
   "metadata": {},
   "outputs": [],
   "source": [
    "# Function to generate personalised email given inputs using OpenAI call\n",
    "def generate_email(sender_company, sender_company_description, sender_name, sender_role, name, role, company_name, company_news):\n",
    "\n",
    "    email_prompt = f\"\"\"\n",
    "    You are an expert outbound sales agent specialised in email marketing at {sender_company}.\n",
    "    {sender_company_description}\n",
    "    The following information in triple ***'s is on {sender_company}'s website:\n",
    "    ***{sender_company}: {COMPANY_WEBSITE_DESCRIPTION}***\n",
    "    Write a cold email to {name}, who is the {role} at {company_name}, advertising {sender_company}'s offerings.\n",
    "    The following information in triple ***'s details recent news about {name}'s company, {company_name}. Use this information to personalise the email if applicable.\n",
    "    ***{company_name} News: {company_news}***\n",
    "    You must always use a professional but friendly tone.\n",
    "    You must always sign off as {sender_name}, {sender_role}.\n",
    "    Your email must not exceed 6 sentences. \n",
    "    Below are some cold email templates to guide you. \n",
    "    Example 1: {example_email_1}\n",
    "    Example 2: {example_email_2}\n",
    "    Example 3: {example_email_3}\n",
    "    \"\"\"\n",
    "\n",
    "    chat_completion = client.chat.completions.create(\n",
    "        model=\"gpt-4-turbo-2024-04-09\",\n",
    "        messages=[{\"role\":\"system\", \"content\": email_prompt}]\n",
    "    )\n",
    "    cold_email = chat_completion.choices[0].message.content\n",
    "\n",
    "    return cold_email"
   ]
  },
  {
   "cell_type": "code",
   "execution_count": 14,
   "metadata": {},
   "outputs": [
    {
     "name": "stdout",
     "output_type": "stream",
     "text": [
      "Hi Arnold,\n",
      "\n",
      "Congratulations on Anthropic's recent achievements, especially the substantial $4B investment from Amazon and the unveiling of new AI models that are setting benchmarks in the tech world. These milestones are not only impressive but inspiring.\n",
      "\n",
      "At Swapp, we understand the momentum innovative technology can bring to any domain, including architecture. Our AI-driven platform assists architectural firms in elevating their project documentation and management, increasing both efficiency and profitability without compromising security or quality.\n",
      "\n",
      "Given your commitment to advancing generative AI, I believe a conversation about how Swapp could offer similar transformative benefits in architectural processes could be mutually beneficial.\n",
      "\n",
      "Would you be available for a brief discussion on this?\n",
      "\n",
      "Best regards,\n",
      "\n",
      "Alex Amalfi\n",
      "\n",
      "Co-Founder of Swapp\n"
     ]
    }
   ],
   "source": [
    "test = generate_email(SENDER_COMPANY, SENDER_COMPANY_DESCRIPTION, SENDER_NAME, SENDER_ROLE, example['Prospect Name'], example['Prospect Role'], example['Prospect Company Name'], example['Prospect Company news'])\n",
    "print(test)"
   ]
  },
  {
   "cell_type": "code",
   "execution_count": 15,
   "metadata": {},
   "outputs": [],
   "source": [
    "# Testing Claude models \n",
    "def anthropic_generate_email(sender_company, sender_company_description, sender_name, sender_role, name, role, company_name, company_news):\n",
    "\n",
    "    email_prompt = f\"\"\"\n",
    "    You are an expert outbound sales agent specialised in email marketing at {sender_company}.\n",
    "    {sender_company_description}\n",
    "    The following information in triple ***'s is on {sender_company}'s website:\n",
    "    ***{sender_company}: {COMPANY_WEBSITE_DESCRIPTION}***\n",
    "    Write a cold email to {name}, who is the {role} at {company_name}, advertising {sender_company}'s offerings.\n",
    "    The following information in triple ***'s details recent news about {name}'s company, {company_name}. Use this information to personalise the email if applicable.\n",
    "    ***{company_name} News: {company_news}***\n",
    "    You must always use a professional but friendly tone.\n",
    "    You must always sign off as {sender_name}, {sender_role}.\n",
    "    Your email must not exceed 6 sentences. \n",
    "    Below are some cold email templates to guide you. \n",
    "    Example 1: {example_email_1}\n",
    "    Example 2: {example_email_2}\n",
    "    Example 3: {example_email_3}\n",
    "    \"\"\"\n",
    "\n",
    "    message = anthropic_client.messages.create(\n",
    "        model=\"claude-3-opus-20240229\",\n",
    "        max_tokens=300,\n",
    "        temperature=0.0,\n",
    "        system=email_prompt,\n",
    "        messages=[\n",
    "            {'role':'user', 'content': 'generate the email!'}\n",
    "        ]\n",
    "    )\n",
    "    \n",
    "    cold_email = message.content[0].text\n",
    "    return cold_email"
   ]
  },
  {
   "cell_type": "code",
   "execution_count": null,
   "metadata": {},
   "outputs": [],
   "source": [
    "test = anthropic_generate_email(SENDER_COMPANY, SENDER_COMPANY_DESCRIPTION, SENDER_NAME, SENDER_ROLE, example['Prospect Name'], example['Prospect Role'], example['Prospect Company Name'], example['Prospect Company news'])\n",
    "print(test)"
   ]
  },
  {
   "cell_type": "code",
   "execution_count": 21,
   "metadata": {},
   "outputs": [
    {
     "name": "stderr",
     "output_type": "stream",
     "text": [
      "/var/folders/0c/bxf3tpv51tq6yhtn2r7wsxb00000gn/T/ipykernel_3341/2179649652.py:5: TqdmDeprecationWarning: This function will be removed in tqdm==5.0.0\n",
      "Please use `tqdm.notebook.tqdm` instead of `tqdm.tqdm_notebook`\n",
      "  for i in tqdm(range(len(df))):\n"
     ]
    },
    {
     "data": {
      "application/vnd.jupyter.widget-view+json": {
       "model_id": "c596b208af9743aa8e769aa76bd03f9e",
       "version_major": 2,
       "version_minor": 0
      },
      "text/plain": [
       "  0%|          | 0/7 [00:00<?, ?it/s]"
      ]
     },
     "metadata": {},
     "output_type": "display_data"
    }
   ],
   "source": [
    "# Generating all example emails \n",
    "chatgpt_emails = []\n",
    "claude_emails = []\n",
    "\n",
    "for i in tqdm(range(len(df))):\n",
    "    example = df.iloc[i]\n",
    "    gpt_email = generate_email(SENDER_COMPANY, SENDER_COMPANY_DESCRIPTION, SENDER_NAME, SENDER_ROLE, example['Prospect Name'], example['Prospect Role'], example['Prospect Company Name'], example['Prospect Company news'])\n",
    "    claude_email = anthropic_generate_email(SENDER_COMPANY, SENDER_COMPANY_DESCRIPTION, SENDER_NAME, SENDER_ROLE, example['Prospect Name'], example['Prospect Role'], example['Prospect Company Name'], example['Prospect Company news'])\n",
    "    chatgpt_emails.append(gpt_email)\n",
    "    claude_emails.append(claude_email)\n",
    "\n",
    "# Saving generated emails to csv \n",
    "results_dict = {\"gpt_emails\": chatgpt_emails, \"claude_emails\": claude_emails}\n",
    "results_df = pd.DataFrame(results_dict)\n",
    "results_df.to_csv(\"results.csv\")"
   ]
  },
  {
   "cell_type": "markdown",
   "metadata": {},
   "source": [
    "### Brief Cost Analysis\n",
    "- Claude: input=$15/1m tokens, output=$75/1m tokens\n",
    "- OpenAI: input=$10/1m tokens, output=$30/1m tokens"
   ]
  },
  {
   "cell_type": "code",
   "execution_count": 29,
   "metadata": {},
   "outputs": [],
   "source": [
    "# Function to create prompt (to count input tokens)\n",
    "def create_prompt(sender_company, sender_company_description, sender_name, sender_role, name, role, company_name, company_news):\n",
    "    email_prompt = f\"\"\"\n",
    "    You are an expert outbound sales agent specialised in email marketing at {sender_company}.\n",
    "    {sender_company_description}\n",
    "    The following information in triple ***'s is on {sender_company}'s website:\n",
    "    ***{sender_company}: {COMPANY_WEBSITE_DESCRIPTION}***\n",
    "    Write a cold email to {name}, who is the {role} at {company_name}, advertising {sender_company}'s offerings.\n",
    "    The following information in triple ***'s details recent news about {name}'s company, {company_name}. Use this information to personalise the email if applicable.\n",
    "    ***{company_name} News: {company_news}***\n",
    "    You must always use a professional but friendly tone.\n",
    "    You must always sign off as {sender_name}, {sender_role}.\n",
    "    Your email must not exceed 6 sentences. \n",
    "    Below are some cold email templates to guide you. \n",
    "    Example 1: {example_email_1}\n",
    "    Example 2: {example_email_2}\n",
    "    Example 3: {example_email_3}\n",
    "    \"\"\"\n",
    "    return email_prompt"
   ]
  },
  {
   "cell_type": "code",
   "execution_count": 34,
   "metadata": {},
   "outputs": [
    {
     "name": "stdout",
     "output_type": "stream",
     "text": [
      "[828, 848, 824, 820, 835, 819, 819]\n",
      "[130, 152, 139, 138, 151, 130, 141]\n",
      "[188, 187, 155, 158, 188, 189, 158]\n"
     ]
    }
   ],
   "source": [
    "# Cost analysis \n",
    "results_df = pd.read_csv(\"results.csv\")\n",
    "\n",
    "encoding = tiktoken.get_encoding(\"cl100k_base\")\n",
    "\n",
    "input_tokens = []\n",
    "gpt_output_tokens = []\n",
    "claude_output_tokens = []\n",
    "\n",
    "# Counting num input tokens for each prompt\n",
    "for i in range(len(df)):\n",
    "    example = df.iloc[i]\n",
    "    p = create_prompt(SENDER_COMPANY, SENDER_COMPANY_DESCRIPTION, SENDER_NAME, SENDER_ROLE, example['Prospect Name'], example['Prospect Role'], example['Prospect Company Name'], example['Prospect Company news'])\n",
    "    num_tokens = len(encoding.encode(p))\n",
    "    input_tokens.append(num_tokens)\n",
    "\n",
    "# Counting num output tokens for gpt & claude emails\n",
    "for i in range(len(results_df)):\n",
    "    email = results_df.iloc[i]\n",
    "    gpt_tokens = encoding.encode(email['gpt_emails'])\n",
    "    gpt_output_tokens.append(len(gpt_tokens))\n",
    "    claude_tokens = encoding.encode(email['claude_emails'])\n",
    "    claude_output_tokens.append(len(claude_tokens))\n",
    "\n",
    "print(input_tokens)\n",
    "print(gpt_output_tokens)\n",
    "print(claude_output_tokens)"
   ]
  },
  {
   "cell_type": "code",
   "execution_count": 40,
   "metadata": {},
   "outputs": [
    {
     "name": "stdout",
     "output_type": "stream",
     "text": [
      "The average cost per claude email is : $ 0.026\n",
      "The average cost per gpt email is: $ 0.012\n"
     ]
    }
   ],
   "source": [
    "# Calculating cost per email\n",
    "claude_email_costs = []\n",
    "gpt_email_costs = []\n",
    "\n",
    "for i in range(len(input_tokens)):\n",
    "    claude_cost = input_tokens[i]*15/1000000 + claude_output_tokens[i]*75/1000000\n",
    "    claude_email_costs.append(claude_cost)\n",
    "    gpt_cost = input_tokens[i]*10/1000000 + gpt_output_tokens[i]*30/1000000\n",
    "    gpt_email_costs.append(gpt_cost)\n",
    "\n",
    "print(\"The average cost per claude email is : $\", round(statistics.mean(claude_email_costs),3))\n",
    "print(\"The average cost per gpt email is: $\", round(statistics.mean(gpt_email_costs),3))"
   ]
  },
  {
   "cell_type": "markdown",
   "metadata": {},
   "source": [
    "### Refining Prompt Template\n",
    "- selected gpt for cheap $\n",
    "- creating email subject\n",
    "- incorporating linkedin post information\n",
    "- max 75 words\n",
    "- subject line, less than 5 words\n",
    "- added subject line examples, [20 Cold Email Subject Line Examples — That Actually Get Responses](https://www.brafton.co.uk/blog/email-marketing/20-cold-email-subject-lines-that-actually-get-responses/)\n",
    "- moving recipient information into user content "
   ]
  },
  {
   "cell_type": "code",
   "execution_count": 16,
   "metadata": {},
   "outputs": [],
   "source": [
    "# Example subject lines \n",
    "example_sl_1 = \"Let's talk about email sales\"\n",
    "example_sl_2 = \"Have you solved your sales problem yet?\"\n",
    "example_sl_3 = \"Essential resources to help you with email sales\""
   ]
  },
  {
   "cell_type": "code",
   "execution_count": 17,
   "metadata": {},
   "outputs": [],
   "source": [
    "# Function to create refined prompt (to count input tokens)\n",
    "def create_refined_prompt(sender_company, sender_company_description, sender_name, sender_role, name, role, company_name, company_news):\n",
    "    email_prompt = f\"\"\"\n",
    "    You are an expert outbound sales agent specialised in email marketing at {sender_company}.\n",
    "    {sender_company_description}\n",
    "    The following information in triple ***'s is on {sender_company}'s website:\n",
    "    ***{sender_company}: {COMPANY_WEBSITE_DESCRIPTION}***\n",
    "    Write a cold email with a subject line to be sent to {name}, who is the {role} at {company_name}, advertising {sender_company}'s offerings.\n",
    "    Your subject line must be less than 5 words.\n",
    "    Your email must be less than 75 words.\n",
    "    You must always sign off as {sender_name}, {sender_role}.\n",
    "    The following information in triple ***'s details recent news about {name}'s company, {company_name}. Use this information to personalise the email if applicable.\n",
    "    ***{company_name} News: {company_news}***\n",
    "    Here are some example subject lines:\n",
    "    Example Subject Line 1: {example_sl_1}\n",
    "    Example Subject Line 2: {example_sl_2}\n",
    "    Example Subject Line 3: {example_sl_3}\n",
    "    Here are some example cold emails:\n",
    "    Example Email 1: {example_email_1}\n",
    "    Example Email 2: {example_email_2}\n",
    "    Example Email 3: {example_email_3}\n",
    "    \"\"\"\n",
    "    return email_prompt"
   ]
  },
  {
   "cell_type": "code",
   "execution_count": 18,
   "metadata": {},
   "outputs": [],
   "source": [
    "# Function to generate personalised email given inputs, refined template\n",
    "def generate_email_refined(sender_company, sender_company_description, sender_name, sender_role, name, role, company_name, company_news):\n",
    "\n",
    "    email_prompt = create_refined_prompt(sender_company, sender_company_description, sender_name, sender_role, name, role, company_name, company_news)\n",
    "\n",
    "    chat_completion = client.chat.completions.create(\n",
    "        model=\"gpt-4-turbo-2024-04-09\",\n",
    "        messages=[{\"role\":\"system\", \"content\": email_prompt}]\n",
    "    )\n",
    "    cold_email = chat_completion.choices[0].message.content\n",
    "\n",
    "    return cold_email"
   ]
  },
  {
   "cell_type": "code",
   "execution_count": 19,
   "metadata": {},
   "outputs": [
    {
     "name": "stdout",
     "output_type": "stream",
     "text": [
      "Subject Line: Enhance Your Architectural AI\n",
      "\n",
      "Email Body:\n",
      "Hi Arnold,\n",
      "\n",
      "Congrats on Anthropic's recent achievements with Amazon and your innovative AI models! At Swapp, we leverage AI to streamline architectural documentation, enhancing efficiency and profitability without compromising data security—a perfect synergy with Anthropic's forward-thinking approach.\n",
      "\n",
      "Curious to explore a collaboration?\n",
      "\n",
      "Best,\n",
      "\n",
      "Alex Amalfi\n",
      "\n",
      "Co-Founder of Swapp\n"
     ]
    }
   ],
   "source": [
    "test = generate_email_refined(SENDER_COMPANY, SENDER_COMPANY_DESCRIPTION, SENDER_NAME, SENDER_ROLE, example['Prospect Name'], example['Prospect Role'], example['Prospect Company Name'], example['Prospect Company news'])\n",
    "print(test)"
   ]
  },
  {
   "cell_type": "code",
   "execution_count": 20,
   "metadata": {},
   "outputs": [],
   "source": [
    "# Function to generate personalised email, moving inputs into user content field\n",
    "def generate_email_refined_v2(sender_company, sender_company_description, sender_name, sender_role, name, role, company_name, company_news):\n",
    "\n",
    "    email_prompt = f\"\"\"\n",
    "    You are an expert outbound sales agent specialised in email marketing at {sender_company}.\n",
    "    {sender_company_description}\n",
    "    The following information in triple ***'s is on {sender_company}'s website:\n",
    "    ***{sender_company}: {COMPANY_WEBSITE_DESCRIPTION}***\n",
    "    Write a personalised cold email with a subject line to the specified person, advertising {sender_company}'s offerings.\n",
    "    Your subject line must be less than 5 words.\n",
    "    Your email must be less than 75 words.\n",
    "    You must always sign off as {sender_name}, {sender_role}.\n",
    "    Here are some example subject lines:\n",
    "    Example Subject Line 1: {example_sl_1}\n",
    "    Example Subject Line 2: {example_sl_2}\n",
    "    Example Subject Line 3: {example_sl_3}\n",
    "    Here are some example cold emails:\n",
    "    Example Email 1: {example_email_1}\n",
    "    Example Email 2: {example_email_2}\n",
    "    Example Email 3: {example_email_3}\n",
    "    \"\"\"\n",
    "\n",
    "    user_input = f\"\"\"\n",
    "    Write an email to {name}, who is the {role} at {company_name}. Here is some recent news about {company_name}: {company_news}\n",
    "    \"\"\"\n",
    "\n",
    "    chat_completion = client.chat.completions.create(\n",
    "        model=\"gpt-4-turbo-2024-04-09\",\n",
    "        messages=[{\"role\":\"system\", \"content\": email_prompt}, {\"role\":\"user\", \"content\":user_input}]\n",
    "    )\n",
    "    cold_email = chat_completion.choices[0].message.content\n",
    "\n",
    "    return cold_email"
   ]
  },
  {
   "cell_type": "code",
   "execution_count": 21,
   "metadata": {},
   "outputs": [
    {
     "name": "stdout",
     "output_type": "stream",
     "text": [
      "Subject: Elevate Your Architectural Processes\n",
      "\n",
      "Hi Arnold,\n",
      "\n",
      "Congratulations on Anthropic's recent advancements and the impressive investment from Amazon. As you spearhead innovation in AI, Swapp can complement your endeavors by enhancing architectural documentation, ensuring your infrastructure keeps pace with your growth.\n",
      "\n",
      "Would you be open to exploring a partnership that aligns our cutting-edge solutions with your strategic goals?\n",
      "\n",
      "Best regards,\n",
      "\n",
      "Alex Amalfi\n",
      "\n",
      "Co-Founder of Swapp\n"
     ]
    }
   ],
   "source": [
    "test = generate_email_refined_v2(SENDER_COMPANY, SENDER_COMPANY_DESCRIPTION, SENDER_NAME, SENDER_ROLE, example['Prospect Name'], example['Prospect Role'], example['Prospect Company Name'], example['Prospect Company news'])\n",
    "print(test)"
   ]
  },
  {
   "cell_type": "markdown",
   "metadata": {},
   "source": [
    "### LLM Evaluation \n",
    "- guidelines to evaluate cold email \n",
    "- assess subject line, humanness, relevance, persuasiveness"
   ]
  },
  {
   "cell_type": "code",
   "execution_count": 22,
   "metadata": {},
   "outputs": [],
   "source": [
    "# Function to evaluate a given email based on above metrics\n",
    "def evaluate_email(email):\n",
    "    model = ChatOpenAI(model_name=\"gpt-3.5-turbo\")  \n",
    "    response_schemas = [\n",
    "        ResponseSchema(name=\"subject_line\", description=\"Does the subject line sound convincing, out of 5?\"),\n",
    "        ResponseSchema(name=\"humanness\", description=\"Does the email sound human, out of 5?\"),\n",
    "        ResponseSchema(name=\"relevance\", description=\"Is the email relevant, out of 5?\"),    \n",
    "        ResponseSchema(name=\"persuasiveness\", description=\"Is the email persuasive, out of 5?\"),        \n",
    "    ]\n",
    "    output_parser = StructuredOutputParser.from_response_schemas(response_schemas)\n",
    "    format_instructions = output_parser.get_format_instructions()\n",
    "    prompt = PromptTemplate(\n",
    "        template=\"\"\"You are an expert at writing cold emails that generate leads. \n",
    "        Evaluate following cold email and subject line, considering the subject line and the humanness, relevance and persuasiveness of the email.\n",
    "        If the subject line does not exist or it sounds like it would trigger spam filters, set the subject_line to 0. \n",
    "        Format instructions: {format_instructions}\n",
    "        Cold Email: {cold_email}\"\"\",\n",
    "        input_variables=[\"cold_email\"],\n",
    "        partial_variables={\"format_instructions\": format_instructions},\n",
    "    )\n",
    "    chain = prompt | model | output_parser\n",
    "    result = chain.invoke({\"cold_email\": email})\n",
    "    return result\n",
    "    "
   ]
  },
  {
   "cell_type": "code",
   "execution_count": 23,
   "metadata": {},
   "outputs": [
    {
     "name": "stderr",
     "output_type": "stream",
     "text": [
      "/Users/raydawg/code/github-projects/ColdEmailGenerator/.venv/lib/python3.9/site-packages/langchain_core/_api/deprecation.py:119: LangChainDeprecationWarning: The class `ChatOpenAI` was deprecated in LangChain 0.0.10 and will be removed in 0.2.0. An updated version of the class exists in the langchain-openai package and should be used instead. To use it run `pip install -U langchain-openai` and import as `from langchain_openai import ChatOpenAI`.\n",
      "  warn_deprecated(\n"
     ]
    },
    {
     "name": "stdout",
     "output_type": "stream",
     "text": [
      "Subject Line: Great Product\n",
      "Hi Dave, buy my product please. \n",
      "Thanks\n",
      "{'subject_line': '1', 'humanness': '2', 'relevance': '1', 'persuasiveness': '1'}\n",
      "Subject: Elevate Your Architectural Processes\n",
      "\n",
      "Hi Arnold,\n",
      "\n",
      "Congratulations on Anthropic's recent advancements and the impressive investment from Amazon. As you spearhead innovation in AI, Swapp can complement your endeavors by enhancing architectural documentation, ensuring your infrastructure keeps pace with your growth.\n",
      "\n",
      "Would you be open to exploring a partnership that aligns our cutting-edge solutions with your strategic goals?\n",
      "\n",
      "Best regards,\n",
      "\n",
      "Alex Amalfi\n",
      "\n",
      "Co-Founder of Swapp\n",
      "{'subject_line': '4', 'humanness': '5', 'relevance': '5', 'persuasiveness': '4'}\n"
     ]
    }
   ],
   "source": [
    "bad_email = \"\"\"Subject Line: Great Product\n",
    "Hi Dave, buy my product please. \n",
    "Thanks\"\"\"\n",
    "bad_email_evaluation = evaluate_email(bad_email)\n",
    "print(bad_email)\n",
    "print(bad_email_evaluation)\n",
    "\n",
    "test_evaluation = evaluate_email(test)\n",
    "print(test)\n",
    "print(test_evaluation)"
   ]
  }
 ],
 "metadata": {
  "kernelspec": {
   "display_name": ".venv",
   "language": "python",
   "name": "python3"
  },
  "language_info": {
   "codemirror_mode": {
    "name": "ipython",
    "version": 3
   },
   "file_extension": ".py",
   "mimetype": "text/x-python",
   "name": "python",
   "nbconvert_exporter": "python",
   "pygments_lexer": "ipython3",
   "version": "3.9.10"
  }
 },
 "nbformat": 4,
 "nbformat_minor": 2
}
